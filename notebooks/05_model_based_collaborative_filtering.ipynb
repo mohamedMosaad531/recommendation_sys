{
 "cells": [
  {
   "cell_type": "code",
   "execution_count": 3,
   "metadata": {},
   "outputs": [],
   "source": [
    "DATA_PATH=r'..\\data\\processed\\new_data.pickle'\n",
    "MLFLOW_TRACKING_URI = '../models/mlruns/'\n",
    "MLFLOW_EXPERIMENT_NAME = \"Amazon_products_recommendation_system\"\n",
    "\n",
    "LOG_PATH = \"../models/temp/\"\n",
    "LOG_DATA_PKL    =  \"data.pkl\"\n",
    "LOG_MODEL_PKL   =  \"model.pkl\"\n",
    "LOG_METRICS_PKL =  \"metrics.pkl\""
   ]
  },
  {
   "cell_type": "code",
   "execution_count": 11,
   "metadata": {},
   "outputs": [],
   "source": [
    "mlflow.set_tracking_uri(MLFLOW_TRACKING_URI)\n",
    "client=MlflowClient()\n",
    "mlflow.get_experiment_by_name(MLFLOW_EXPERIMENT_NAME)\n",
    "exp=client.get_experiment_by_name(MLFLOW_EXPERIMENT_NAME)\n",
    "if exp is None:\n",
    "    print(\"Experiment not found ,creating new experiment\")\n",
    "    experiment_id=mlflow.create_experiment(MLFLOW_EXPERIMENT_NAME)\n",
    "else:\n",
    "    experiment_id=exp.experiment_id  "
   ]
  },
  {
   "cell_type": "code",
   "execution_count": 12,
   "metadata": {},
   "outputs": [],
   "source": [
    "import numpy as np\n",
    "import pandas as pd\n",
    "import os\n",
    "import pickle\n",
    "import mlflow\n",
    "from mlflow import MlflowClient\n",
    "from pathlib import Path\n",
    "\n",
    "from surprise import Dataset,Reader\n",
    "from surprise.model_selection import GridSearchCV,train_test_split\n",
    "from surprise.prediction_algorithms import SVD\n",
    "from surprise import accuracy as acc\n"
   ]
  },
  {
   "cell_type": "code",
   "execution_count": 13,
   "metadata": {},
   "outputs": [],
   "source": [
    "df=pd.read_pickle(DATA_PATH)\n",
    "reader=Reader(rating_scale=(1,5))\n",
    "data=Dataset.load_from_df(df[['User_ID','Product_ID','Ratings']],reader)\n",
    "trainset,testset=train_test_split(data,test_size=.3, random_state=42,shuffle=True)\n"
   ]
  },
  {
   "cell_type": "code",
   "execution_count": 14,
   "metadata": {},
   "outputs": [
    {
     "data": {
      "text/html": [
       "<div>\n",
       "<style scoped>\n",
       "    .dataframe tbody tr th:only-of-type {\n",
       "        vertical-align: middle;\n",
       "    }\n",
       "\n",
       "    .dataframe tbody tr th {\n",
       "        vertical-align: top;\n",
       "    }\n",
       "\n",
       "    .dataframe thead th {\n",
       "        text-align: right;\n",
       "    }\n",
       "</style>\n",
       "<table border=\"1\" class=\"dataframe\">\n",
       "  <thead>\n",
       "    <tr style=\"text-align: right;\">\n",
       "      <th></th>\n",
       "      <th>User_ID</th>\n",
       "      <th>Product_ID</th>\n",
       "      <th>Ratings</th>\n",
       "    </tr>\n",
       "  </thead>\n",
       "  <tbody>\n",
       "    <tr>\n",
       "      <th>0</th>\n",
       "      <td>A23R3EOZ837242</td>\n",
       "      <td>B00834SJSK</td>\n",
       "      <td>4.0</td>\n",
       "    </tr>\n",
       "    <tr>\n",
       "      <th>1</th>\n",
       "      <td>A1H98YV5K5BUX0</td>\n",
       "      <td>B001EQ4BVI</td>\n",
       "      <td>5.0</td>\n",
       "    </tr>\n",
       "    <tr>\n",
       "      <th>2</th>\n",
       "      <td>A36K2N527TXXJN</td>\n",
       "      <td>B000MX48VM</td>\n",
       "      <td>5.0</td>\n",
       "    </tr>\n",
       "    <tr>\n",
       "      <th>3</th>\n",
       "      <td>A1F1A0QQP2XVH5</td>\n",
       "      <td>B000R805L4</td>\n",
       "      <td>5.0</td>\n",
       "    </tr>\n",
       "    <tr>\n",
       "      <th>4</th>\n",
       "      <td>A2SPV96SGOEO2</td>\n",
       "      <td>B004J4VYEY</td>\n",
       "      <td>3.0</td>\n",
       "    </tr>\n",
       "    <tr>\n",
       "      <th>...</th>\n",
       "      <td>...</td>\n",
       "      <td>...</td>\n",
       "      <td>...</td>\n",
       "    </tr>\n",
       "    <tr>\n",
       "      <th>18863</th>\n",
       "      <td>AIJQU979J6UFY</td>\n",
       "      <td>B00JP12170</td>\n",
       "      <td>4.0</td>\n",
       "    </tr>\n",
       "    <tr>\n",
       "      <th>18864</th>\n",
       "      <td>ATOKT8QYK967L</td>\n",
       "      <td>B005O7LJAE</td>\n",
       "      <td>2.0</td>\n",
       "    </tr>\n",
       "    <tr>\n",
       "      <th>18865</th>\n",
       "      <td>AK3GKIV8DEY8B</td>\n",
       "      <td>B000067O7T</td>\n",
       "      <td>3.0</td>\n",
       "    </tr>\n",
       "    <tr>\n",
       "      <th>18866</th>\n",
       "      <td>ARXU3FESTWMJJ</td>\n",
       "      <td>B001TH7GVE</td>\n",
       "      <td>5.0</td>\n",
       "    </tr>\n",
       "    <tr>\n",
       "      <th>18867</th>\n",
       "      <td>AO09RWV40IX78</td>\n",
       "      <td>B00DQZOD8Q</td>\n",
       "      <td>5.0</td>\n",
       "    </tr>\n",
       "  </tbody>\n",
       "</table>\n",
       "<p>18868 rows × 3 columns</p>\n",
       "</div>"
      ],
      "text/plain": [
       "              User_ID  Product_ID  Ratings\n",
       "0      A23R3EOZ837242  B00834SJSK      4.0\n",
       "1      A1H98YV5K5BUX0  B001EQ4BVI      5.0\n",
       "2      A36K2N527TXXJN  B000MX48VM      5.0\n",
       "3      A1F1A0QQP2XVH5  B000R805L4      5.0\n",
       "4       A2SPV96SGOEO2  B004J4VYEY      3.0\n",
       "...               ...         ...      ...\n",
       "18863   AIJQU979J6UFY  B00JP12170      4.0\n",
       "18864   ATOKT8QYK967L  B005O7LJAE      2.0\n",
       "18865   AK3GKIV8DEY8B  B000067O7T      3.0\n",
       "18866   ARXU3FESTWMJJ  B001TH7GVE      5.0\n",
       "18867   AO09RWV40IX78  B00DQZOD8Q      5.0\n",
       "\n",
       "[18868 rows x 3 columns]"
      ]
     },
     "execution_count": 14,
     "metadata": {},
     "output_type": "execute_result"
    }
   ],
   "source": [
    "test_df=pd.DataFrame(testset,columns=['User_ID', 'Product_ID', 'Ratings'])\n",
    "test_df"
   ]
  },
  {
   "cell_type": "code",
   "execution_count": null,
   "metadata": {},
   "outputs": [],
   "source": []
  }
 ],
 "metadata": {
  "kernelspec": {
   "display_name": "base",
   "language": "python",
   "name": "python3"
  },
  "language_info": {
   "codemirror_mode": {
    "name": "ipython",
    "version": 3
   },
   "file_extension": ".py",
   "mimetype": "text/x-python",
   "name": "python",
   "nbconvert_exporter": "python",
   "pygments_lexer": "ipython3",
   "version": "3.11.5"
  }
 },
 "nbformat": 4,
 "nbformat_minor": 2
}
